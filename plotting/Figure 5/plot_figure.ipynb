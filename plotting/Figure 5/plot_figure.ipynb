{
 "cells": [
  {
   "cell_type": "code",
   "execution_count": 1,
   "metadata": {},
   "outputs": [],
   "source": [
    "import pandas as pd"
   ]
  },
  {
   "cell_type": "code",
   "execution_count": 35,
   "metadata": {},
   "outputs": [],
   "source": [
    "(\n",
    "    pd.read_csv(\"real_world_noise_experiments.csv\").drop(columns=[\"Unnamed: 0\"])\n",
    "    .assign(experiment=lambda x: x[\"folder\"].apply(lambda x:x.split(\"/\")[0].replace(\"real_world_\", \"\").replace(\"_results\", \"\")))\n",
    "    .assign(noise_type=lambda x: x[\"folder\"].apply(lambda x:x.split(\"/\")[-1].replace(\"_results\", \"\")))\n",
    "    .to_csv(\"real_world_noise_experiments_adjusted.csv\")\n",
    ")"
   ]
  }
 ],
 "metadata": {
  "kernelspec": {
   "display_name": "daki_base",
   "language": "python",
   "name": "python3"
  },
  "language_info": {
   "codemirror_mode": {
    "name": "ipython",
    "version": 3
   },
   "file_extension": ".py",
   "mimetype": "text/x-python",
   "name": "python",
   "nbconvert_exporter": "python",
   "pygments_lexer": "ipython3",
   "version": "3.8.13"
  }
 },
 "nbformat": 4,
 "nbformat_minor": 2
}
